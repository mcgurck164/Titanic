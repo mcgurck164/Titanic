{
 "cells": [
  {
   "cell_type": "markdown",
   "metadata": {},
   "source": [
    "### 1. Package imports"
   ]
  },
  {
   "cell_type": "code",
   "execution_count": 23,
   "metadata": {},
   "outputs": [],
   "source": [
    "import pandas as pd\n",
    "import numpy as np\n",
    "import os\n",
    "import matplotlib.pyplot as plt\n",
    "import seaborn as sns\n",
    "\n",
    "from sklearn.model_selection import RandomizedSearchCV, GridSearchCV\n",
    "from sklearn.ensemble import RandomForestClassifier, ExtraTreesClassifier, AdaBoostClassifier, GradientBoostingClassifier, BaggingClassifier\n",
    "from sklearn.metrics import classification_report, confusion_matrix, roc_curve, roc_auc_score\n",
    "from sklearn.tree import DecisionTreeClassifier\n",
    "from sklearn.svm import SVC\n",
    "from sklearn.neighbors import KNeighborsClassifier\n",
    "from sklearn.linear_model import LogisticRegression, LogisticRegressionCV\n",
    "from sklearn.preprocessing import StandardScaler\n",
    "from xgboost import XGBClassifier\n",
    "\n",
    "%matplotlib inline\n",
    "\n",
    "from utility import * # custom functions that are used throughout this script"
   ]
  },
  {
   "cell_type": "markdown",
   "metadata": {},
   "source": [
    "### 2. Read data"
   ]
  },
  {
   "cell_type": "code",
   "execution_count": 12,
   "metadata": {},
   "outputs": [
    {
     "data": {
      "text/html": [
       "<div>\n",
       "<style scoped>\n",
       "    .dataframe tbody tr th:only-of-type {\n",
       "        vertical-align: middle;\n",
       "    }\n",
       "\n",
       "    .dataframe tbody tr th {\n",
       "        vertical-align: top;\n",
       "    }\n",
       "\n",
       "    .dataframe thead th {\n",
       "        text-align: right;\n",
       "    }\n",
       "</style>\n",
       "<table border=\"1\" class=\"dataframe\">\n",
       "  <thead>\n",
       "    <tr style=\"text-align: right;\">\n",
       "      <th></th>\n",
       "      <th>Survived</th>\n",
       "      <th>Pclass</th>\n",
       "      <th>Age</th>\n",
       "      <th>SibSp</th>\n",
       "      <th>Parch</th>\n",
       "      <th>Fare</th>\n",
       "      <th>TrainTest</th>\n",
       "      <th>FamilyAllSurvived</th>\n",
       "      <th>FamilyAllDied</th>\n",
       "      <th>Fsize</th>\n",
       "      <th>...</th>\n",
       "      <th>AgeBin_(64.0, 72.0]</th>\n",
       "      <th>AgeBin_(72.0, 80.0]</th>\n",
       "      <th>Deck_B</th>\n",
       "      <th>Deck_C</th>\n",
       "      <th>Deck_D</th>\n",
       "      <th>Deck_E</th>\n",
       "      <th>Deck_F</th>\n",
       "      <th>Deck_G</th>\n",
       "      <th>Deck_None</th>\n",
       "      <th>Deck_T</th>\n",
       "    </tr>\n",
       "    <tr>\n",
       "      <th>PassengerId</th>\n",
       "      <th></th>\n",
       "      <th></th>\n",
       "      <th></th>\n",
       "      <th></th>\n",
       "      <th></th>\n",
       "      <th></th>\n",
       "      <th></th>\n",
       "      <th></th>\n",
       "      <th></th>\n",
       "      <th></th>\n",
       "      <th></th>\n",
       "      <th></th>\n",
       "      <th></th>\n",
       "      <th></th>\n",
       "      <th></th>\n",
       "      <th></th>\n",
       "      <th></th>\n",
       "      <th></th>\n",
       "      <th></th>\n",
       "      <th></th>\n",
       "      <th></th>\n",
       "    </tr>\n",
       "  </thead>\n",
       "  <tbody>\n",
       "    <tr>\n",
       "      <th>1</th>\n",
       "      <td>0.0</td>\n",
       "      <td>3</td>\n",
       "      <td>22</td>\n",
       "      <td>1</td>\n",
       "      <td>0</td>\n",
       "      <td>1.98</td>\n",
       "      <td>Train</td>\n",
       "      <td>0</td>\n",
       "      <td>1</td>\n",
       "      <td>2</td>\n",
       "      <td>...</td>\n",
       "      <td>0</td>\n",
       "      <td>0</td>\n",
       "      <td>0</td>\n",
       "      <td>0</td>\n",
       "      <td>0</td>\n",
       "      <td>0</td>\n",
       "      <td>0</td>\n",
       "      <td>0</td>\n",
       "      <td>1</td>\n",
       "      <td>0</td>\n",
       "    </tr>\n",
       "    <tr>\n",
       "      <th>2</th>\n",
       "      <td>1.0</td>\n",
       "      <td>1</td>\n",
       "      <td>38</td>\n",
       "      <td>1</td>\n",
       "      <td>0</td>\n",
       "      <td>4.27</td>\n",
       "      <td>Train</td>\n",
       "      <td>0</td>\n",
       "      <td>0</td>\n",
       "      <td>2</td>\n",
       "      <td>...</td>\n",
       "      <td>0</td>\n",
       "      <td>0</td>\n",
       "      <td>0</td>\n",
       "      <td>1</td>\n",
       "      <td>0</td>\n",
       "      <td>0</td>\n",
       "      <td>0</td>\n",
       "      <td>0</td>\n",
       "      <td>0</td>\n",
       "      <td>0</td>\n",
       "    </tr>\n",
       "    <tr>\n",
       "      <th>3</th>\n",
       "      <td>1.0</td>\n",
       "      <td>3</td>\n",
       "      <td>26</td>\n",
       "      <td>0</td>\n",
       "      <td>0</td>\n",
       "      <td>2.07</td>\n",
       "      <td>Train</td>\n",
       "      <td>0</td>\n",
       "      <td>0</td>\n",
       "      <td>1</td>\n",
       "      <td>...</td>\n",
       "      <td>0</td>\n",
       "      <td>0</td>\n",
       "      <td>0</td>\n",
       "      <td>0</td>\n",
       "      <td>0</td>\n",
       "      <td>0</td>\n",
       "      <td>0</td>\n",
       "      <td>0</td>\n",
       "      <td>1</td>\n",
       "      <td>0</td>\n",
       "    </tr>\n",
       "    <tr>\n",
       "      <th>4</th>\n",
       "      <td>1.0</td>\n",
       "      <td>1</td>\n",
       "      <td>35</td>\n",
       "      <td>1</td>\n",
       "      <td>0</td>\n",
       "      <td>3.97</td>\n",
       "      <td>Train</td>\n",
       "      <td>0</td>\n",
       "      <td>0</td>\n",
       "      <td>2</td>\n",
       "      <td>...</td>\n",
       "      <td>0</td>\n",
       "      <td>0</td>\n",
       "      <td>0</td>\n",
       "      <td>1</td>\n",
       "      <td>0</td>\n",
       "      <td>0</td>\n",
       "      <td>0</td>\n",
       "      <td>0</td>\n",
       "      <td>0</td>\n",
       "      <td>0</td>\n",
       "    </tr>\n",
       "    <tr>\n",
       "      <th>5</th>\n",
       "      <td>0.0</td>\n",
       "      <td>3</td>\n",
       "      <td>35</td>\n",
       "      <td>0</td>\n",
       "      <td>0</td>\n",
       "      <td>2.09</td>\n",
       "      <td>Train</td>\n",
       "      <td>0</td>\n",
       "      <td>0</td>\n",
       "      <td>1</td>\n",
       "      <td>...</td>\n",
       "      <td>0</td>\n",
       "      <td>0</td>\n",
       "      <td>0</td>\n",
       "      <td>0</td>\n",
       "      <td>0</td>\n",
       "      <td>0</td>\n",
       "      <td>0</td>\n",
       "      <td>0</td>\n",
       "      <td>1</td>\n",
       "      <td>0</td>\n",
       "    </tr>\n",
       "  </tbody>\n",
       "</table>\n",
       "<p>5 rows × 42 columns</p>\n",
       "</div>"
      ],
      "text/plain": [
       "             Survived  Pclass  Age  SibSp  Parch  Fare TrainTest  \\\n",
       "PassengerId                                                        \n",
       "1                 0.0       3   22      1      0  1.98     Train   \n",
       "2                 1.0       1   38      1      0  4.27     Train   \n",
       "3                 1.0       3   26      0      0  2.07     Train   \n",
       "4                 1.0       1   35      1      0  3.97     Train   \n",
       "5                 0.0       3   35      0      0  2.09     Train   \n",
       "\n",
       "             FamilyAllSurvived  FamilyAllDied  Fsize   ...    \\\n",
       "PassengerId                                            ...     \n",
       "1                            0              1      2   ...     \n",
       "2                            0              0      2   ...     \n",
       "3                            0              0      1   ...     \n",
       "4                            0              0      2   ...     \n",
       "5                            0              0      1   ...     \n",
       "\n",
       "             AgeBin_(64.0, 72.0]  AgeBin_(72.0, 80.0]  Deck_B  Deck_C  Deck_D  \\\n",
       "PassengerId                                                                     \n",
       "1                              0                    0       0       0       0   \n",
       "2                              0                    0       0       1       0   \n",
       "3                              0                    0       0       0       0   \n",
       "4                              0                    0       0       1       0   \n",
       "5                              0                    0       0       0       0   \n",
       "\n",
       "             Deck_E  Deck_F  Deck_G  Deck_None  Deck_T  \n",
       "PassengerId                                             \n",
       "1                 0       0       0          1       0  \n",
       "2                 0       0       0          0       0  \n",
       "3                 0       0       0          1       0  \n",
       "4                 0       0       0          0       0  \n",
       "5                 0       0       0          1       0  \n",
       "\n",
       "[5 rows x 42 columns]"
      ]
     },
     "execution_count": 12,
     "metadata": {},
     "output_type": "execute_result"
    }
   ],
   "source": [
    "path_input_file = os.path.join(os.getcwd(), \"01_data\", \"data_prepared.csv\")\n",
    "\n",
    "data = pd.read_csv(path_input_file)\n",
    "data = data.set_index(\"PassengerId\", drop=True)\n",
    "data.head()"
   ]
  },
  {
   "cell_type": "code",
   "execution_count": 13,
   "metadata": {},
   "outputs": [
    {
     "name": "stdout",
     "output_type": "stream",
     "text": [
      "<class 'pandas.core.frame.DataFrame'>\n",
      "Int64Index: 1309 entries, 1 to 1309\n",
      "Data columns (total 42 columns):\n",
      "Survived                   891 non-null float64\n",
      "Pclass                     1309 non-null int64\n",
      "Age                        1309 non-null int64\n",
      "SibSp                      1309 non-null int64\n",
      "Parch                      1309 non-null int64\n",
      "Fare                       1309 non-null float64\n",
      "TrainTest                  1309 non-null object\n",
      "FamilyAllSurvived          1309 non-null int64\n",
      "FamilyAllDied              1309 non-null int64\n",
      "Fsize                      1309 non-null int64\n",
      "SharedTicket               1309 non-null int64\n",
      "SharedTicketAllSurvived    1309 non-null int64\n",
      "SharedTicketAllDied        1309 non-null int64\n",
      "FareBin                    1309 non-null int64\n",
      "NumberCabins               1309 non-null int64\n",
      "SharedCabin                1309 non-null int64\n",
      "SharedCabinAllSurvived     1309 non-null int64\n",
      "SharedCabinAllDied         1309 non-null int64\n",
      "Sex_male                   1309 non-null int64\n",
      "Embarked_Q                 1309 non-null int64\n",
      "Embarked_S                 1309 non-null int64\n",
      "Title_Mr                   1309 non-null int64\n",
      "Title_Mrs                  1309 non-null int64\n",
      "Title_Ms                   1309 non-null int64\n",
      "Title_Other                1309 non-null int64\n",
      "AgeBin_(8.0, 16.0]         1309 non-null int64\n",
      "AgeBin_(16.0, 24.0]        1309 non-null int64\n",
      "AgeBin_(24.0, 32.0]        1309 non-null int64\n",
      "AgeBin_(32.0, 40.0]        1309 non-null int64\n",
      "AgeBin_(40.0, 48.0]        1309 non-null int64\n",
      "AgeBin_(48.0, 56.0]        1309 non-null int64\n",
      "AgeBin_(56.0, 64.0]        1309 non-null int64\n",
      "AgeBin_(64.0, 72.0]        1309 non-null int64\n",
      "AgeBin_(72.0, 80.0]        1309 non-null int64\n",
      "Deck_B                     1309 non-null int64\n",
      "Deck_C                     1309 non-null int64\n",
      "Deck_D                     1309 non-null int64\n",
      "Deck_E                     1309 non-null int64\n",
      "Deck_F                     1309 non-null int64\n",
      "Deck_G                     1309 non-null int64\n",
      "Deck_None                  1309 non-null int64\n",
      "Deck_T                     1309 non-null int64\n",
      "dtypes: float64(2), int64(39), object(1)\n",
      "memory usage: 439.7+ KB\n"
     ]
    }
   ],
   "source": [
    "data.info()"
   ]
  },
  {
   "cell_type": "markdown",
   "metadata": {},
   "source": [
    "### 3. Data prep"
   ]
  },
  {
   "cell_type": "markdown",
   "metadata": {},
   "source": [
    "#### Rename AgeBins (to avoid issues with XGBoost)"
   ]
  },
  {
   "cell_type": "code",
   "execution_count": 28,
   "metadata": {},
   "outputs": [],
   "source": [
    "bins = [col for col in data.columns if col.startswith(\"AgeBin\")]\n",
    "bins = dict((b, f\"AgeBin_{i}\") for i, b in enumerate(bins))"
   ]
  },
  {
   "cell_type": "code",
   "execution_count": 34,
   "metadata": {},
   "outputs": [],
   "source": [
    "data.rename(bins, axis=1, inplace=True)"
   ]
  },
  {
   "cell_type": "markdown",
   "metadata": {},
   "source": [
    "#### Split data"
   ]
  },
  {
   "cell_type": "code",
   "execution_count": 37,
   "metadata": {},
   "outputs": [],
   "source": [
    "train, test = split_data(data)"
   ]
  },
  {
   "cell_type": "markdown",
   "metadata": {},
   "source": [
    "#### StandardScaler"
   ]
  },
  {
   "cell_type": "code",
   "execution_count": 38,
   "metadata": {},
   "outputs": [],
   "source": [
    "columns_to_scale = [\"Age\", \"Fare\", \"Pclass\", \"SibSp\", \"Parch\",\"Fsize\"]\n",
    "train[columns_to_scale] = train[columns_to_scale].astype(float)\n",
    "scaler = StandardScaler().fit(train[columns_to_scale])"
   ]
  },
  {
   "cell_type": "code",
   "execution_count": 39,
   "metadata": {},
   "outputs": [],
   "source": [
    "train[columns_to_scale] = scaler.transform(train[columns_to_scale])\n",
    "test[columns_to_scale] = test[columns_to_scale].astype(float)\n",
    "test[columns_to_scale] = scaler.transform(test[columns_to_scale])"
   ]
  },
  {
   "cell_type": "markdown",
   "metadata": {},
   "source": [
    "### 4. Model selection\n",
    "All algorithms will be used to predict the actual test data. The results will be uploaded to Kaggle, and the results will be tracked.\n",
    "For now, the default parameters are used. Some of them are stated explicitly to surpress warnings about future changes of the default value."
   ]
  },
  {
   "cell_type": "code",
   "execution_count": 46,
   "metadata": {},
   "outputs": [],
   "source": [
    "algorithms = [RandomForestClassifier(n_estimators=100),\n",
    "              GradientBoostingClassifier(n_estimators=100),\n",
    "              ExtraTreesClassifier(n_estimators=100),\n",
    "              AdaBoostClassifier(),\n",
    "              DecisionTreeClassifier(),\n",
    "              BaggingClassifier(),\n",
    "              SVC(probability=True, gamma=\"auto\"),\n",
    "              XGBClassifier(),\n",
    "              KNeighborsClassifier(),\n",
    "              LogisticRegression(solver=\"lbfgs\", max_iter=1000),\n",
    "              LogisticRegressionCV(solver=\"lbfgs\", cv=3, max_iter=1000)]"
   ]
  },
  {
   "cell_type": "code",
   "execution_count": 49,
   "metadata": {},
   "outputs": [],
   "source": [
    "path_output_folder = os.path.join(os.getcwd(), \"02_predictions\")\n",
    "X_train = train.drop(\"Survived\", axis=1)\n",
    "y_train = train[\"Survived\"]\n",
    "\n",
    "for algo in algorithms:\n",
    "    name = algo.__class__.__name__\n",
    "    algo.fit(X_train, y_train)\n",
    "    predictions = pd.DataFrame()\n",
    "    predictions[\"PassengerId\"] = test.index\n",
    "    predictions[\"Survived\"] = algo.predict(test)\n",
    "    predictions[\"Survived\"] = predictions[\"Survived\"].astype(int)\n",
    "    predictions.to_csv(os.path.join(path_output_folder, f\"predictions_{name}.csv\"), index=False)"
   ]
  },
  {
   "cell_type": "code",
   "execution_count": 68,
   "metadata": {},
   "outputs": [],
   "source": [
    "results = [(\"AdaBoostClassifier\", 0.75119), \n",
    "           (\"BaggingClassifier\", 0.73684),\n",
    "           (\"DecisionTreeClassifier\", 0.71770),\n",
    "           (\"ExtraTreesClassifier\", 0.72727), \n",
    "           (\"GradientBoostingClassifier\", 0.76555),\n",
    "           (\"KNeighborsClassifier\", 0.78947),\n",
    "           (\"LogisticRegression\", 0.77511), \n",
    "           (\"LogisticRegressionCV\", 0.76555),\n",
    "           (\"RandomForestClassifier\", 0.74162),\n",
    "           (\"SVC\", 0.79904),\n",
    "           (\"XGBClassifier\", 0.77990)]"
   ]
  },
  {
   "cell_type": "code",
   "execution_count": 69,
   "metadata": {},
   "outputs": [],
   "source": [
    "results = pd.DataFrame(results, columns=[\"Classifier\", \"Score\"])\n",
    "results = results.sort_values(\"Score\", ascending=True)"
   ]
  },
  {
   "cell_type": "code",
   "execution_count": 70,
   "metadata": {
    "scrolled": true
   },
   "outputs": [
    {
     "data": {
      "image/png": "[encoded data removed]",
      "text/plain": [
       "<Figure size 432x288 with 1 Axes>"
      ]
     },
     "metadata": {
      "needs_background": "light"
     },
     "output_type": "display_data"
    }
   ],
   "source": [
    "ax = results.plot(kind=\"barh\", x=\"Classifier\")\n",
    "ax.get_legend().remove()\n",
    "ax.set_xlim(0.65, 0.85);"
   ]
  }
 ],
 "metadata": {
  "kernelspec": {
   "display_name": "Python 3",
   "language": "python",
   "name": "python3"
  },
  "language_info": {
   "codemirror_mode": {
    "name": "ipython",
    "version": 3
   },
   "file_extension": ".py",
   "mimetype": "text/x-python",
   "name": "python",
   "nbconvert_exporter": "python",
   "pygments_lexer": "ipython3",
   "version": "3.7.1"
  }
 },
 "nbformat": 4,
 "nbformat_minor": 2
}
