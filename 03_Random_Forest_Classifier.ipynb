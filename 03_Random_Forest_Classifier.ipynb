{
 "cells": [
  {
   "cell_type": "markdown",
   "metadata": {},
   "source": [
    "### 1. Package imports"
   ]
  },
  {
   "cell_type": "code",
   "execution_count": 1,
   "metadata": {},
   "outputs": [],
   "source": [
    "import pandas as pd\n",
    "import numpy as np\n",
    "import os\n",
    "import matplotlib.pyplot as plt\n",
    "import seaborn as sns\n",
    "\n",
    "from sklearn.model_selection import GridSearchCV\n",
    "from sklearn.metrics import classification_report, confusion_matrix, roc_curve, roc_auc_score\n",
    "from sklearn.ensemble import RandomForestClassifier\n",
    "from sklearn.preprocessing import StandardScaler\n",
    "\n",
    "%matplotlib inline\n",
    "\n",
    "from utility import * # custom functions that are used throughout this script"
   ]
  },
  {
   "cell_type": "markdown",
   "metadata": {},
   "source": [
    "### 2. Data read-in"
   ]
  },
  {
   "cell_type": "code",
   "execution_count": 2,
   "metadata": {},
   "outputs": [
    {
     "data": {
      "text/html": [
       "<div>\n",
       "<style scoped>\n",
       "    .dataframe tbody tr th:only-of-type {\n",
       "        vertical-align: middle;\n",
       "    }\n",
       "\n",
       "    .dataframe tbody tr th {\n",
       "        vertical-align: top;\n",
       "    }\n",
       "\n",
       "    .dataframe thead th {\n",
       "        text-align: right;\n",
       "    }\n",
       "</style>\n",
       "<table border=\"1\" class=\"dataframe\">\n",
       "  <thead>\n",
       "    <tr style=\"text-align: right;\">\n",
       "      <th></th>\n",
       "      <th>Survived</th>\n",
       "      <th>Pclass</th>\n",
       "      <th>Age</th>\n",
       "      <th>SibSp</th>\n",
       "      <th>Parch</th>\n",
       "      <th>Fare</th>\n",
       "      <th>TrainTest</th>\n",
       "      <th>FamilyAllSurvived</th>\n",
       "      <th>FamilyAllDied</th>\n",
       "      <th>Fsize</th>\n",
       "      <th>...</th>\n",
       "      <th>AgeBin_(64.0, 72.0]</th>\n",
       "      <th>AgeBin_(72.0, 80.0]</th>\n",
       "      <th>Deck_B</th>\n",
       "      <th>Deck_C</th>\n",
       "      <th>Deck_D</th>\n",
       "      <th>Deck_E</th>\n",
       "      <th>Deck_F</th>\n",
       "      <th>Deck_G</th>\n",
       "      <th>Deck_None</th>\n",
       "      <th>Deck_T</th>\n",
       "    </tr>\n",
       "    <tr>\n",
       "      <th>PassengerId</th>\n",
       "      <th></th>\n",
       "      <th></th>\n",
       "      <th></th>\n",
       "      <th></th>\n",
       "      <th></th>\n",
       "      <th></th>\n",
       "      <th></th>\n",
       "      <th></th>\n",
       "      <th></th>\n",
       "      <th></th>\n",
       "      <th></th>\n",
       "      <th></th>\n",
       "      <th></th>\n",
       "      <th></th>\n",
       "      <th></th>\n",
       "      <th></th>\n",
       "      <th></th>\n",
       "      <th></th>\n",
       "      <th></th>\n",
       "      <th></th>\n",
       "      <th></th>\n",
       "    </tr>\n",
       "  </thead>\n",
       "  <tbody>\n",
       "    <tr>\n",
       "      <th>1</th>\n",
       "      <td>0.0</td>\n",
       "      <td>3</td>\n",
       "      <td>22</td>\n",
       "      <td>1</td>\n",
       "      <td>0</td>\n",
       "      <td>1.98</td>\n",
       "      <td>Train</td>\n",
       "      <td>0</td>\n",
       "      <td>1</td>\n",
       "      <td>2</td>\n",
       "      <td>...</td>\n",
       "      <td>0</td>\n",
       "      <td>0</td>\n",
       "      <td>0</td>\n",
       "      <td>0</td>\n",
       "      <td>0</td>\n",
       "      <td>0</td>\n",
       "      <td>0</td>\n",
       "      <td>0</td>\n",
       "      <td>1</td>\n",
       "      <td>0</td>\n",
       "    </tr>\n",
       "    <tr>\n",
       "      <th>2</th>\n",
       "      <td>1.0</td>\n",
       "      <td>1</td>\n",
       "      <td>38</td>\n",
       "      <td>1</td>\n",
       "      <td>0</td>\n",
       "      <td>4.27</td>\n",
       "      <td>Train</td>\n",
       "      <td>0</td>\n",
       "      <td>0</td>\n",
       "      <td>2</td>\n",
       "      <td>...</td>\n",
       "      <td>0</td>\n",
       "      <td>0</td>\n",
       "      <td>0</td>\n",
       "      <td>1</td>\n",
       "      <td>0</td>\n",
       "      <td>0</td>\n",
       "      <td>0</td>\n",
       "      <td>0</td>\n",
       "      <td>0</td>\n",
       "      <td>0</td>\n",
       "    </tr>\n",
       "    <tr>\n",
       "      <th>3</th>\n",
       "      <td>1.0</td>\n",
       "      <td>3</td>\n",
       "      <td>26</td>\n",
       "      <td>0</td>\n",
       "      <td>0</td>\n",
       "      <td>2.07</td>\n",
       "      <td>Train</td>\n",
       "      <td>0</td>\n",
       "      <td>0</td>\n",
       "      <td>1</td>\n",
       "      <td>...</td>\n",
       "      <td>0</td>\n",
       "      <td>0</td>\n",
       "      <td>0</td>\n",
       "      <td>0</td>\n",
       "      <td>0</td>\n",
       "      <td>0</td>\n",
       "      <td>0</td>\n",
       "      <td>0</td>\n",
       "      <td>1</td>\n",
       "      <td>0</td>\n",
       "    </tr>\n",
       "    <tr>\n",
       "      <th>4</th>\n",
       "      <td>1.0</td>\n",
       "      <td>1</td>\n",
       "      <td>35</td>\n",
       "      <td>1</td>\n",
       "      <td>0</td>\n",
       "      <td>3.97</td>\n",
       "      <td>Train</td>\n",
       "      <td>0</td>\n",
       "      <td>0</td>\n",
       "      <td>2</td>\n",
       "      <td>...</td>\n",
       "      <td>0</td>\n",
       "      <td>0</td>\n",
       "      <td>0</td>\n",
       "      <td>1</td>\n",
       "      <td>0</td>\n",
       "      <td>0</td>\n",
       "      <td>0</td>\n",
       "      <td>0</td>\n",
       "      <td>0</td>\n",
       "      <td>0</td>\n",
       "    </tr>\n",
       "    <tr>\n",
       "      <th>5</th>\n",
       "      <td>0.0</td>\n",
       "      <td>3</td>\n",
       "      <td>35</td>\n",
       "      <td>0</td>\n",
       "      <td>0</td>\n",
       "      <td>2.09</td>\n",
       "      <td>Train</td>\n",
       "      <td>0</td>\n",
       "      <td>0</td>\n",
       "      <td>1</td>\n",
       "      <td>...</td>\n",
       "      <td>0</td>\n",
       "      <td>0</td>\n",
       "      <td>0</td>\n",
       "      <td>0</td>\n",
       "      <td>0</td>\n",
       "      <td>0</td>\n",
       "      <td>0</td>\n",
       "      <td>0</td>\n",
       "      <td>1</td>\n",
       "      <td>0</td>\n",
       "    </tr>\n",
       "  </tbody>\n",
       "</table>\n",
       "<p>5 rows × 42 columns</p>\n",
       "</div>"
      ],
      "text/plain": [
       "             Survived  Pclass  Age  SibSp  Parch  Fare TrainTest  \\\n",
       "PassengerId                                                        \n",
       "1                 0.0       3   22      1      0  1.98     Train   \n",
       "2                 1.0       1   38      1      0  4.27     Train   \n",
       "3                 1.0       3   26      0      0  2.07     Train   \n",
       "4                 1.0       1   35      1      0  3.97     Train   \n",
       "5                 0.0       3   35      0      0  2.09     Train   \n",
       "\n",
       "             FamilyAllSurvived  FamilyAllDied  Fsize   ...    \\\n",
       "PassengerId                                            ...     \n",
       "1                            0              1      2   ...     \n",
       "2                            0              0      2   ...     \n",
       "3                            0              0      1   ...     \n",
       "4                            0              0      2   ...     \n",
       "5                            0              0      1   ...     \n",
       "\n",
       "             AgeBin_(64.0, 72.0]  AgeBin_(72.0, 80.0]  Deck_B  Deck_C  Deck_D  \\\n",
       "PassengerId                                                                     \n",
       "1                              0                    0       0       0       0   \n",
       "2                              0                    0       0       1       0   \n",
       "3                              0                    0       0       0       0   \n",
       "4                              0                    0       0       1       0   \n",
       "5                              0                    0       0       0       0   \n",
       "\n",
       "             Deck_E  Deck_F  Deck_G  Deck_None  Deck_T  \n",
       "PassengerId                                             \n",
       "1                 0       0       0          1       0  \n",
       "2                 0       0       0          0       0  \n",
       "3                 0       0       0          1       0  \n",
       "4                 0       0       0          0       0  \n",
       "5                 0       0       0          1       0  \n",
       "\n",
       "[5 rows x 42 columns]"
      ]
     },
     "execution_count": 2,
     "metadata": {},
     "output_type": "execute_result"
    }
   ],
   "source": [
    "path_input_file = os.path.join(os.getcwd(), \"01_data\", \"data_prepared.csv\")\n",
    "\n",
    "data = pd.read_csv(path_input_file)\n",
    "data = data.set_index(\"PassengerId\", drop=True)\n",
    "data.head()"
   ]
  },
  {
   "cell_type": "markdown",
   "metadata": {},
   "source": [
    "### 3. Data prep"
   ]
  },
  {
   "cell_type": "markdown",
   "metadata": {},
   "source": [
    "#### Split data"
   ]
  },
  {
   "cell_type": "code",
   "execution_count": 3,
   "metadata": {},
   "outputs": [],
   "source": [
    "train, test = split_data(data)"
   ]
  },
  {
   "cell_type": "markdown",
   "metadata": {},
   "source": [
    "#### Apply StandardScaler"
   ]
  },
  {
   "cell_type": "code",
   "execution_count": 4,
   "metadata": {},
   "outputs": [],
   "source": [
    "columns_to_scale = [\"Age\", \"Fare\", \"Pclass\", \"SibSp\", \"Parch\",\"Fsize\"]\n",
    "train[columns_to_scale] = train[columns_to_scale].astype(float)\n",
    "scaler = StandardScaler().fit(train[columns_to_scale])"
   ]
  },
  {
   "cell_type": "code",
   "execution_count": 5,
   "metadata": {},
   "outputs": [],
   "source": [
    "train[columns_to_scale] = scaler.transform(train[columns_to_scale])\n",
    "test[columns_to_scale] = test[columns_to_scale].astype(float)\n",
    "test[columns_to_scale] = scaler.transform(test[columns_to_scale])"
   ]
  },
  {
   "cell_type": "markdown",
   "metadata": {},
   "source": [
    "### 4. GridSearch"
   ]
  },
  {
   "cell_type": "code",
   "execution_count": 6,
   "metadata": {},
   "outputs": [],
   "source": [
    "def run_grid_search(X, y):\n",
    "    n_estimators = [1000]\n",
    "    criterion = [\"gini\"]\n",
    "    max_depth = range(10, 101, 10)\n",
    "    min_samples_split = range(2, 6)\n",
    "    min_samples_leaf = range(8, 13)\n",
    "    max_features = [1, 2, 3, \"sqrt\", \"log2\", None]\n",
    "    bootstrap = [True]\n",
    "    \n",
    "    parameter_grid = {\"n_estimators\": n_estimators,\n",
    "                      \"criterion\": criterion,\n",
    "                      \"max_depth\": max_depth,\n",
    "                      \"min_samples_split\": min_samples_split,\n",
    "                      \"min_samples_leaf\": min_samples_leaf,\n",
    "                      \"max_features\": max_features,\n",
    "                      \"bootstrap\": bootstrap}\n",
    "    \n",
    "    rfc = RandomForestClassifier()\n",
    "    grid_search = GridSearchCV(estimator=rfc, param_grid=parameter_grid, cv=10, n_jobs=-1, verbose=2)\n",
    "    grid_search.fit(X, y)\n",
    "    \n",
    "    return grid_search"
   ]
  },
  {
   "cell_type": "code",
   "execution_count": 7,
   "metadata": {},
   "outputs": [
    {
     "name": "stdout",
     "output_type": "stream",
     "text": [
      "Fitting 10 folds for each of 1200 candidates, totalling 12000 fits\n"
     ]
    },
    {
     "name": "stderr",
     "output_type": "stream",
     "text": [
      "[Parallel(n_jobs=-1)]: Using backend LokyBackend with 4 concurrent workers.\n",
      "[Parallel(n_jobs=-1)]: Done  33 tasks      | elapsed:   10.9s\n",
      "[Parallel(n_jobs=-1)]: Done 154 tasks      | elapsed:   40.4s\n",
      "[Parallel(n_jobs=-1)]: Done 357 tasks      | elapsed:  1.5min\n",
      "[Parallel(n_jobs=-1)]: Done 640 tasks      | elapsed:  2.8min\n",
      "[Parallel(n_jobs=-1)]: Done 1005 tasks      | elapsed:  4.6min\n",
      "[Parallel(n_jobs=-1)]: Done 1450 tasks      | elapsed:  7.2min\n",
      "[Parallel(n_jobs=-1)]: Done 1977 tasks      | elapsed:  9.6min\n",
      "[Parallel(n_jobs=-1)]: Done 2584 tasks      | elapsed: 13.2min\n",
      "[Parallel(n_jobs=-1)]: Done 3273 tasks      | elapsed: 16.7min\n",
      "[Parallel(n_jobs=-1)]: Done 4042 tasks      | elapsed: 21.1min\n",
      "[Parallel(n_jobs=-1)]: Done 4893 tasks      | elapsed: 26.8min\n",
      "[Parallel(n_jobs=-1)]: Done 5824 tasks      | elapsed: 32.2min\n",
      "[Parallel(n_jobs=-1)]: Done 6837 tasks      | elapsed: 38.9min\n",
      "[Parallel(n_jobs=-1)]: Done 7930 tasks      | elapsed: 45.5min\n",
      "[Parallel(n_jobs=-1)]: Done 9105 tasks      | elapsed: 52.0min\n",
      "[Parallel(n_jobs=-1)]: Done 10360 tasks      | elapsed: 59.2min\n",
      "[Parallel(n_jobs=-1)]: Done 11697 tasks      | elapsed: 66.4min\n",
      "[Parallel(n_jobs=-1)]: Done 12000 out of 12000 | elapsed: 68.7min finished\n"
     ]
    }
   ],
   "source": [
    "# grid_search = run_grid_search(X=train.drop(\"Survived\", axis=1),\n",
    "#                               y=train[\"Survived\"])"
   ]
  },
  {
   "cell_type": "code",
   "execution_count": 8,
   "metadata": {},
   "outputs": [
    {
     "data": {
      "text/plain": [
       "{'bootstrap': True,\n",
       " 'criterion': 'gini',\n",
       " 'max_depth': 30,\n",
       " 'max_features': 'sqrt',\n",
       " 'min_samples_leaf': 8,\n",
       " 'min_samples_split': 4,\n",
       " 'n_estimators': 1000}"
      ]
     },
     "execution_count": 8,
     "metadata": {},
     "output_type": "execute_result"
    }
   ],
   "source": [
    "# best_params = grid_search.best_params_\n",
    "# best_params"
   ]
  },
  {
   "cell_type": "code",
   "execution_count": null,
   "metadata": {},
   "outputs": [],
   "source": [
    "best_params = {'bootstrap': True,\n",
    "             'criterion': 'gini',\n",
    "             'max_depth': 30,\n",
    "             'max_features': 'sqrt',\n",
    "             'min_samples_leaf': 8,\n",
    "             'min_samples_split': 4,\n",
    "             'n_estimators': 1000}"
   ]
  },
  {
   "cell_type": "markdown",
   "metadata": {},
   "source": [
    "### 5. Train classifier & predict"
   ]
  },
  {
   "cell_type": "code",
   "execution_count": 9,
   "metadata": {},
   "outputs": [
    {
     "data": {
      "text/plain": [
       "RandomForestClassifier(bootstrap=True, class_weight=None, criterion='gini',\n",
       "            max_depth=30, max_features='sqrt', max_leaf_nodes=None,\n",
       "            min_impurity_decrease=0.0, min_impurity_split=None,\n",
       "            min_samples_leaf=8, min_samples_split=4,\n",
       "            min_weight_fraction_leaf=0.0, n_estimators=1000, n_jobs=None,\n",
       "            oob_score=False, random_state=None, verbose=0,\n",
       "            warm_start=False)"
      ]
     },
     "execution_count": 9,
     "metadata": {},
     "output_type": "execute_result"
    }
   ],
   "source": [
    "rfc = RandomForestClassifier(**best_params)\n",
    "rfc.fit(train.drop(\"Survived\", axis=1), train[\"Survived\"])"
   ]
  },
  {
   "cell_type": "code",
   "execution_count": 10,
   "metadata": {},
   "outputs": [],
   "source": [
    "path_output_folder = \"02_predictions\"\n",
    "predict_and_save_in_kaggle_format(clf=rfc, test_df=test, path_output_folder=path_output_folder,\n",
    "                                 name_output_file=\"predictions_rfc_optimized.csv\")"
   ]
  },
  {
   "cell_type": "markdown",
   "metadata": {},
   "source": [
    "![](99_misc/rfc_score.jpg)"
   ]
  }
 ],
 "metadata": {
  "kernelspec": {
   "display_name": "Python 3",
   "language": "python",
   "name": "python3"
  },
  "language_info": {
   "codemirror_mode": {
    "name": "ipython",
    "version": 3
   },
   "file_extension": ".py",
   "mimetype": "text/x-python",
   "name": "python",
   "nbconvert_exporter": "python",
   "pygments_lexer": "ipython3",
   "version": "3.7.1"
  }
 },
 "nbformat": 4,
 "nbformat_minor": 2
}
